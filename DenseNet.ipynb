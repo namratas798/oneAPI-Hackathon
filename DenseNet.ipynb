{
 "cells": [
  {
   "cell_type": "markdown",
   "id": "c054ac8a-bf42-4730-850a-2f870f46620f",
   "metadata": {},
   "source": [
    "## Installing tensorflow"
   ]
  },
  {
   "cell_type": "code",
   "execution_count": 2,
   "id": "337f0fa5-ba89-45fb-921f-4238172f290d",
   "metadata": {},
   "outputs": [
    {
     "name": "stdout",
     "output_type": "stream",
     "text": [
      "Defaulting to user installation because normal site-packages is not writeable\n",
      "Requirement already satisfied: tensorflow in ./.local/lib/python3.10/site-packages (2.13.0)\n",
      "Requirement already satisfied: wrapt>=1.11.0 in ./.local/lib/python3.10/site-packages (from tensorflow) (1.15.0)\n",
      "Requirement already satisfied: opt-einsum>=2.3.2 in ./.local/lib/python3.10/site-packages (from tensorflow) (3.3.0)\n",
      "Requirement already satisfied: setuptools in /home/common/miniconda3/envs/pytorch_xpu/lib/python3.10/site-packages (from tensorflow) (67.8.0)\n",
      "Requirement already satisfied: numpy<=1.24.3,>=1.22 in /home/common/miniconda3/envs/pytorch_xpu/lib/python3.10/site-packages (from tensorflow) (1.24.3)\n",
      "Requirement already satisfied: tensorflow-estimator<2.14,>=2.13.0 in ./.local/lib/python3.10/site-packages (from tensorflow) (2.13.0)\n",
      "Requirement already satisfied: astunparse>=1.6.0 in ./.local/lib/python3.10/site-packages (from tensorflow) (1.6.3)\n",
      "Requirement already satisfied: flatbuffers>=23.1.21 in ./.local/lib/python3.10/site-packages (from tensorflow) (23.5.26)\n",
      "Requirement already satisfied: protobuf!=4.21.0,!=4.21.1,!=4.21.2,!=4.21.3,!=4.21.4,!=4.21.5,<5.0.0dev,>=3.20.3 in ./.local/lib/python3.10/site-packages (from tensorflow) (4.24.0)\n",
      "Requirement already satisfied: tensorflow-io-gcs-filesystem>=0.23.1 in ./.local/lib/python3.10/site-packages (from tensorflow) (0.33.0)\n",
      "Requirement already satisfied: absl-py>=1.0.0 in ./.local/lib/python3.10/site-packages (from tensorflow) (1.4.0)\n",
      "Requirement already satisfied: libclang>=13.0.0 in ./.local/lib/python3.10/site-packages (from tensorflow) (16.0.6)\n",
      "Requirement already satisfied: termcolor>=1.1.0 in ./.local/lib/python3.10/site-packages (from tensorflow) (2.3.0)\n",
      "Requirement already satisfied: h5py>=2.9.0 in ./.local/lib/python3.10/site-packages (from tensorflow) (3.9.0)\n",
      "Requirement already satisfied: packaging in /home/common/miniconda3/envs/pytorch_xpu/lib/python3.10/site-packages (from tensorflow) (23.1)\n",
      "Requirement already satisfied: keras<2.14,>=2.13.1 in ./.local/lib/python3.10/site-packages (from tensorflow) (2.13.1)\n",
      "Requirement already satisfied: tensorboard<2.14,>=2.13 in ./.local/lib/python3.10/site-packages (from tensorflow) (2.13.0)\n",
      "Requirement already satisfied: google-pasta>=0.1.1 in ./.local/lib/python3.10/site-packages (from tensorflow) (0.2.0)\n",
      "Requirement already satisfied: grpcio<2.0,>=1.24.3 in ./.local/lib/python3.10/site-packages (from tensorflow) (1.56.2)\n",
      "Requirement already satisfied: typing-extensions<4.6.0,>=3.6.6 in ./.local/lib/python3.10/site-packages (from tensorflow) (4.5.0)\n",
      "Requirement already satisfied: gast<=0.4.0,>=0.2.1 in ./.local/lib/python3.10/site-packages (from tensorflow) (0.4.0)\n",
      "Requirement already satisfied: six>=1.12.0 in /home/common/miniconda3/envs/pytorch_xpu/lib/python3.10/site-packages (from tensorflow) (1.16.0)\n",
      "Requirement already satisfied: wheel<1.0,>=0.23.0 in /home/common/miniconda3/envs/pytorch_xpu/lib/python3.10/site-packages (from astunparse>=1.6.0->tensorflow) (0.38.4)\n",
      "Requirement already satisfied: tensorboard-data-server<0.8.0,>=0.7.0 in ./.local/lib/python3.10/site-packages (from tensorboard<2.14,>=2.13->tensorflow) (0.7.1)\n",
      "Requirement already satisfied: google-auth<3,>=1.6.3 in ./.local/lib/python3.10/site-packages (from tensorboard<2.14,>=2.13->tensorflow) (2.22.0)\n",
      "Requirement already satisfied: google-auth-oauthlib<1.1,>=0.5 in ./.local/lib/python3.10/site-packages (from tensorboard<2.14,>=2.13->tensorflow) (1.0.0)\n",
      "Requirement already satisfied: requests<3,>=2.21.0 in /home/common/miniconda3/envs/pytorch_xpu/lib/python3.10/site-packages (from tensorboard<2.14,>=2.13->tensorflow) (2.31.0)\n",
      "Requirement already satisfied: markdown>=2.6.8 in ./.local/lib/python3.10/site-packages (from tensorboard<2.14,>=2.13->tensorflow) (3.4.4)\n",
      "Requirement already satisfied: werkzeug>=1.0.1 in ./.local/lib/python3.10/site-packages (from tensorboard<2.14,>=2.13->tensorflow) (2.3.6)\n",
      "Requirement already satisfied: cachetools<6.0,>=2.0.0 in ./.local/lib/python3.10/site-packages (from google-auth<3,>=1.6.3->tensorboard<2.14,>=2.13->tensorflow) (5.3.1)\n",
      "Requirement already satisfied: pyasn1-modules>=0.2.1 in ./.local/lib/python3.10/site-packages (from google-auth<3,>=1.6.3->tensorboard<2.14,>=2.13->tensorflow) (0.3.0)\n",
      "Requirement already satisfied: rsa<5,>=3.1.4 in ./.local/lib/python3.10/site-packages (from google-auth<3,>=1.6.3->tensorboard<2.14,>=2.13->tensorflow) (4.9)\n",
      "Requirement already satisfied: urllib3<2.0 in ./.local/lib/python3.10/site-packages (from google-auth<3,>=1.6.3->tensorboard<2.14,>=2.13->tensorflow) (1.26.16)\n",
      "Requirement already satisfied: requests-oauthlib>=0.7.0 in ./.local/lib/python3.10/site-packages (from google-auth-oauthlib<1.1,>=0.5->tensorboard<2.14,>=2.13->tensorflow) (1.3.1)\n",
      "Requirement already satisfied: idna<4,>=2.5 in /home/common/miniconda3/envs/pytorch_xpu/lib/python3.10/site-packages (from requests<3,>=2.21.0->tensorboard<2.14,>=2.13->tensorflow) (3.4)\n",
      "Requirement already satisfied: certifi>=2017.4.17 in /home/common/miniconda3/envs/pytorch_xpu/lib/python3.10/site-packages (from requests<3,>=2.21.0->tensorboard<2.14,>=2.13->tensorflow) (2023.5.7)\n",
      "Requirement already satisfied: charset-normalizer<4,>=2 in /home/common/miniconda3/envs/pytorch_xpu/lib/python3.10/site-packages (from requests<3,>=2.21.0->tensorboard<2.14,>=2.13->tensorflow) (3.1.0)\n",
      "Requirement already satisfied: MarkupSafe>=2.1.1 in /home/common/miniconda3/envs/pytorch_xpu/lib/python3.10/site-packages (from werkzeug>=1.0.1->tensorboard<2.14,>=2.13->tensorflow) (2.1.3)\n",
      "Requirement already satisfied: pyasn1<0.6.0,>=0.4.6 in ./.local/lib/python3.10/site-packages (from pyasn1-modules>=0.2.1->google-auth<3,>=1.6.3->tensorboard<2.14,>=2.13->tensorflow) (0.5.0)\n",
      "Requirement already satisfied: oauthlib>=3.0.0 in ./.local/lib/python3.10/site-packages (from requests-oauthlib>=0.7.0->google-auth-oauthlib<1.1,>=0.5->tensorboard<2.14,>=2.13->tensorflow) (3.2.2)\n"
     ]
    }
   ],
   "source": [
    "!pip install tensorflow"
   ]
  },
  {
   "cell_type": "markdown",
   "id": "0392037a-dcdf-4ade-96e5-2938f4e99642",
   "metadata": {},
   "source": [
    "## Installing scikit-learn"
   ]
  },
  {
   "cell_type": "code",
   "execution_count": 1,
   "id": "36e95921-43da-43a8-9fb7-c3e2f0977345",
   "metadata": {},
   "outputs": [
    {
     "name": "stdout",
     "output_type": "stream",
     "text": [
      "Defaulting to user installation because normal site-packages is not writeable\n",
      "Requirement already satisfied: scikit-learn-intelex in ./.local/lib/python3.10/site-packages (2023.2.1)\n",
      "Requirement already satisfied: scikit-learn>=0.22 in ./.local/lib/python3.10/site-packages (from scikit-learn-intelex) (1.3.0)\n",
      "Requirement already satisfied: daal4py==2023.2.1 in ./.local/lib/python3.10/site-packages (from scikit-learn-intelex) (2023.2.1)\n",
      "Requirement already satisfied: daal==2023.2.1 in ./.local/lib/python3.10/site-packages (from daal4py==2023.2.1->scikit-learn-intelex) (2023.2.1)\n",
      "Requirement already satisfied: numpy>=1.19 in /home/common/miniconda3/envs/pytorch_xpu/lib/python3.10/site-packages (from daal4py==2023.2.1->scikit-learn-intelex) (1.24.3)\n",
      "Requirement already satisfied: tbb==2021.* in ./.local/lib/python3.10/site-packages (from daal==2023.2.1->daal4py==2023.2.1->scikit-learn-intelex) (2021.10.0)\n",
      "Requirement already satisfied: threadpoolctl>=2.0.0 in ./.local/lib/python3.10/site-packages (from scikit-learn>=0.22->scikit-learn-intelex) (3.2.0)\n",
      "Requirement already satisfied: joblib>=1.1.1 in ./.local/lib/python3.10/site-packages (from scikit-learn>=0.22->scikit-learn-intelex) (1.3.2)\n",
      "Requirement already satisfied: scipy>=1.5.0 in ./.local/lib/python3.10/site-packages (from scikit-learn>=0.22->scikit-learn-intelex) (1.11.1)\n"
     ]
    },
    {
     "name": "stderr",
     "output_type": "stream",
     "text": [
      "Intel(R) Extension for Scikit-learn* enabled (https://github.com/intel/scikit-learn-intelex)\n"
     ]
    }
   ],
   "source": [
    "!pip install scikit-learn-intelex\n",
    "from sklearnex import patch_sklearn\n",
    "patch_sklearn()"
   ]
  },
  {
   "cell_type": "code",
   "execution_count": 2,
   "id": "dc2f2024-a153-4cd1-81e5-cafc3666b063",
   "metadata": {},
   "outputs": [],
   "source": [
    "import pandas as pd\n",
    "import numpy as np\n",
    "from sklearn.metrics import accuracy_score,confusion_matrix"
   ]
  },
  {
   "cell_type": "markdown",
   "id": "dfd3659f-f3ad-49be-8364-cca4bd3812d9",
   "metadata": {},
   "source": [
    "## Importing tensorflow"
   ]
  },
  {
   "cell_type": "code",
   "execution_count": 3,
   "id": "461d284c-c319-4c0e-99af-8ef8d453ba95",
   "metadata": {},
   "outputs": [
    {
     "name": "stderr",
     "output_type": "stream",
     "text": [
      "2023-08-10 04:54:42.596689: I tensorflow/core/util/port.cc:110] oneDNN custom operations are on. You may see slightly different numerical results due to floating-point round-off errors from different computation orders. To turn them off, set the environment variable `TF_ENABLE_ONEDNN_OPTS=0`.\n",
      "2023-08-10 04:54:42.598368: I tensorflow/tsl/cuda/cudart_stub.cc:28] Could not find cuda drivers on your machine, GPU will not be used.\n",
      "2023-08-10 04:54:42.628664: I tensorflow/tsl/cuda/cudart_stub.cc:28] Could not find cuda drivers on your machine, GPU will not be used.\n",
      "2023-08-10 04:54:42.629325: I tensorflow/core/platform/cpu_feature_guard.cc:182] This TensorFlow binary is optimized to use available CPU instructions in performance-critical operations.\n",
      "To enable the following instructions: AVX2 AVX512F AVX512_VNNI AVX512_BF16 AVX_VNNI AMX_TILE AMX_INT8 AMX_BF16 FMA, in other operations, rebuild TensorFlow with the appropriate compiler flags.\n",
      "2023-08-10 04:54:45.463477: W tensorflow/compiler/tf2tensorrt/utils/py_utils.cc:38] TF-TRT Warning: Could not find TensorRT\n"
     ]
    }
   ],
   "source": [
    "import tensorflow as tf\n",
    "from tensorflow.keras.layers import Dense, GlobalAveragePooling2D\n",
    "from tensorflow.keras.models import Model\n",
    "from tensorflow.keras.optimizers import Adam\n",
    "from tensorflow.keras.preprocessing.image import ImageDataGenerator\n",
    "from tensorflow.keras.preprocessing import image"
   ]
  },
  {
   "cell_type": "markdown",
   "id": "6a698a35-c1a6-480e-a88c-94d3c5370bc5",
   "metadata": {},
   "source": [
    "## Data Preparation"
   ]
  },
  {
   "cell_type": "code",
   "execution_count": 4,
   "id": "6f5a2306-513f-4056-9821-3ee7a08bec60",
   "metadata": {},
   "outputs": [
    {
     "name": "stdout",
     "output_type": "stream",
     "text": [
      "Found 9177 validated image filenames belonging to 5 classes.\n"
     ]
    },
    {
     "name": "stderr",
     "output_type": "stream",
     "text": [
      "/home/u117015/.local/lib/python3.10/site-packages/keras/src/preprocessing/image.py:1137: UserWarning: Found 3639 invalid image filename(s) in x_col=\"filename\". These filename(s) will be ignored.\n",
      "  warnings.warn(\n"
     ]
    }
   ],
   "source": [
    "# Set up the data generators\n",
    "train_datagen = ImageDataGenerator(\n",
    "    rescale=1./255,\n",
    "    shear_range=0.2,\n",
    "    zoom_range=0.2,\n",
    "    horizontal_flip=True)\n",
    "\n",
    "train_labels = pd.read_csv('normal_train/train_annotations.csv')\n",
    "# Convert the column to strings\n",
    "train_labels['class'] = train_labels['class'].astype(str)\n",
    "train_generator = train_datagen.flow_from_dataframe(\n",
    "    train_labels,\n",
    "    directory='normal_train',\n",
    "    x_col='filename',\n",
    "    y_col='class',\n",
    "    target_size=(224, 224),\n",
    "    batch_size=32,\n",
    "    class_mode='categorical')"
   ]
  },
  {
   "cell_type": "markdown",
   "id": "061cb339-d2b5-453f-b31d-d78cb873e712",
   "metadata": {},
   "source": [
    "## Installing Pillow"
   ]
  },
  {
   "cell_type": "code",
   "execution_count": 5,
   "id": "105ae98c-8cf3-4d35-89d0-ed3f77d31f79",
   "metadata": {},
   "outputs": [
    {
     "name": "stdout",
     "output_type": "stream",
     "text": [
      "Defaulting to user installation because normal site-packages is not writeable\n",
      "Requirement already satisfied: Pillow in ./.local/lib/python3.10/site-packages (10.0.0)\n",
      "Note: you may need to restart the kernel to use updated packages.\n"
     ]
    }
   ],
   "source": [
    "pip install Pillow"
   ]
  },
  {
   "cell_type": "code",
   "execution_count": 6,
   "id": "aeaf188e-27da-44be-a4e5-e3b5fb932e0c",
   "metadata": {},
   "outputs": [
    {
     "name": "stdout",
     "output_type": "stream",
     "text": [
      "10.0.0\n"
     ]
    }
   ],
   "source": [
    "import PIL\n",
    "print(PIL.__version__)"
   ]
  },
  {
   "cell_type": "code",
   "execution_count": 7,
   "id": "4750265e-d501-470d-b685-059307f32c2d",
   "metadata": {},
   "outputs": [],
   "source": [
    "from tensorflow.keras.preprocessing.image import load_img\n"
   ]
  },
  {
   "cell_type": "markdown",
   "id": "ba08130a-afa5-4117-b9d4-20018c9485b9",
   "metadata": {},
   "source": [
    "## Model Creation"
   ]
  },
  {
   "cell_type": "code",
   "execution_count": 8,
   "id": "34ee9dbd-0ac6-4b88-84cc-0199afbb8a8a",
   "metadata": {},
   "outputs": [
    {
     "name": "stdout",
     "output_type": "stream",
     "text": [
      "Epoch 1/20\n",
      "286/286 [==============================] - 98s 327ms/step - loss: 0.5105 - accuracy: 0.7981\n",
      "Epoch 2/20\n",
      "286/286 [==============================] - 90s 314ms/step - loss: 0.5024 - accuracy: 0.8000\n",
      "Epoch 3/20\n",
      "286/286 [==============================] - 90s 313ms/step - loss: 0.5018 - accuracy: 0.8000\n",
      "Epoch 4/20\n",
      "286/286 [==============================] - 93s 325ms/step - loss: 0.5015 - accuracy: 0.8000\n",
      "Epoch 5/20\n",
      "286/286 [==============================] - 96s 335ms/step - loss: 0.5014 - accuracy: 0.8000\n",
      "Epoch 6/20\n",
      "286/286 [==============================] - 96s 334ms/step - loss: 0.5011 - accuracy: 0.8000\n",
      "Epoch 7/20\n",
      "286/286 [==============================] - 95s 333ms/step - loss: 0.5012 - accuracy: 0.8000\n",
      "Epoch 8/20\n",
      "286/286 [==============================] - 95s 332ms/step - loss: 0.5012 - accuracy: 0.8000\n",
      "Epoch 9/20\n",
      "286/286 [==============================] - 95s 332ms/step - loss: 0.5010 - accuracy: 0.8000\n",
      "Epoch 10/20\n",
      "286/286 [==============================] - 95s 332ms/step - loss: 0.5009 - accuracy: 0.8000\n",
      "Epoch 11/20\n",
      "286/286 [==============================] - 95s 330ms/step - loss: 0.5009 - accuracy: 0.8000\n",
      "Epoch 12/20\n",
      "286/286 [==============================] - 93s 325ms/step - loss: 0.5010 - accuracy: 0.8000\n",
      "Epoch 13/20\n",
      "286/286 [==============================] - 93s 325ms/step - loss: 0.5009 - accuracy: 0.8000\n",
      "Epoch 14/20\n",
      "286/286 [==============================] - 94s 328ms/step - loss: 0.5008 - accuracy: 0.8000\n",
      "Epoch 15/20\n",
      "286/286 [==============================] - 95s 331ms/step - loss: 0.5009 - accuracy: 0.8000\n",
      "Epoch 16/20\n",
      "286/286 [==============================] - 95s 332ms/step - loss: 0.5007 - accuracy: 0.8000\n",
      "Epoch 17/20\n",
      "286/286 [==============================] - 100s 350ms/step - loss: 0.5007 - accuracy: 0.8000\n",
      "Epoch 18/20\n",
      "286/286 [==============================] - 100s 350ms/step - loss: 0.5007 - accuracy: 0.8000\n",
      "Epoch 19/20\n",
      "286/286 [==============================] - 100s 350ms/step - loss: 0.5007 - accuracy: 0.8000\n",
      "Epoch 20/20\n",
      "286/286 [==============================] - 100s 350ms/step - loss: 0.5006 - accuracy: 0.8000\n"
     ]
    },
    {
     "data": {
      "text/plain": [
       "<keras.src.callbacks.History at 0x1473541bbbb0>"
      ]
     },
     "execution_count": 8,
     "metadata": {},
     "output_type": "execute_result"
    }
   ],
   "source": [
    "base_model = tf.keras.applications.DenseNet169(\n",
    "    include_top=False, weights='imagenet', input_shape=(224, 224, 3))\n",
    "for layer in base_model.layers:\n",
    "    layer.trainable = False\n",
    "\n",
    "# Add new fully connected layers on top of the base model\n",
    "x = base_model.output\n",
    "x = GlobalAveragePooling2D()(x)\n",
    "x = Dense(1024, activation='relu')(x)\n",
    "predictions = Dense(1, activation='sigmoid')(x)\n",
    "\n",
    "# Compile the model with binary cross-entropy loss and Adam optimizer\n",
    "model = Model(inputs=base_model.input, outputs=predictions)\n",
    "\n",
    "# freeze Layers\n",
    "for layer in base_model.layers:\n",
    "    layer.trainable = False\n",
    "\n",
    "model.compile(optimizer=Adam(learning_rate=0.0001), loss='binary_crossentropy',\n",
    "              metrics=['accuracy'])\n",
    "\n",
    "# training the model\n",
    "model.fit(\n",
    "    train_generator,\n",
    "    steps_per_epoch=train_generator.samples // train_generator.batch_size,\n",
    "    epochs=20)\n"
   ]
  },
  {
   "cell_type": "code",
   "execution_count": 9,
   "id": "cef8cf1e-b9c3-44cf-8360-2781a0765f31",
   "metadata": {},
   "outputs": [],
   "source": [
    "t_test_df = pd.read_csv(\"normal_test/_annotations.csv\")"
   ]
  },
  {
   "cell_type": "markdown",
   "id": "d68aa678-e34f-4ef2-9358-da87ae3dcdec",
   "metadata": {},
   "source": []
  },
  {
   "cell_type": "code",
   "execution_count": 10,
   "id": "b0e59278-4f9b-4ce2-949e-2dc6f8833e4e",
   "metadata": {},
   "outputs": [
    {
     "name": "stdout",
     "output_type": "stream",
     "text": [
      "Found 823 validated image filenames.\n"
     ]
    },
    {
     "name": "stderr",
     "output_type": "stream",
     "text": [
      "/tmp/ipykernel_667181/3169443909.py:14: UserWarning: `Model.predict_generator` is deprecated and will be removed in a future version. Please use `Model.predict`, which supports generators.\n",
      "  preds = model.predict_generator(t_test_generator, steps=None)\n"
     ]
    }
   ],
   "source": [
    "# Create a generator for the test images\n",
    "t_test_datagen = ImageDataGenerator(rescale=1./255)\n",
    "t_test_generator = t_test_datagen.flow_from_dataframe(\n",
    "    t_test_df,\n",
    "    directory=\"normal_test\",\n",
    "    x_col='filename',\n",
    "    y_col=None,\n",
    "    target_size=(224, 224),\n",
    "    batch_size=32,\n",
    "    class_mode=None,\n",
    "    shuffle=False)\n",
    "\n",
    "# Use the trained model to make predictions on the test data\n",
    "preds = model.predict_generator(t_test_generator, steps=None)\n",
    "\n",
    "# Remove any missing filenames from the test CSV file\n",
    "missing_filenames = set(t_test_generator.filenames) - set(t_test_df['filename'])\n",
    "if missing_filenames:\n",
    "    print(f'Removing {len(missing_filenames)} missing filenames from the test CSV file.')\n",
    "    t_test_df = t_test_df[~t_test_df['filename'].isin(missing_filenames)]"
   ]
  },
  {
   "cell_type": "code",
   "execution_count": 11,
   "id": "2de88e7b-12d8-4e85-bb05-2a647e917849",
   "metadata": {},
   "outputs": [],
   "source": [
    "li = []\n",
    "for i in preds.ravel():\n",
    "    if i>0.5:\n",
    "        li.append(1)\n",
    "    else:\n",
    "        li.append(0)\n",
    "     \n",
    "# Create a DataFrame with the filenames and predictions\n",
    "df = pd.DataFrame({'filename': t_test_generator.filenames[:len(preds)], 'class': li})\n",
    "\n",
    "test_inst_df=pd.merge(df, t_test_df, on='filename', how='inner')"
   ]
  },
  {
   "cell_type": "markdown",
   "id": "8fef9a6a-aa66-4e50-af00-45bda49eaf92",
   "metadata": {},
   "source": [
    "## Saving the trained Model"
   ]
  },
  {
   "cell_type": "code",
   "execution_count": 12,
   "id": "31bd293a-5de5-4ba4-9bb4-fc2f2dbc7c43",
   "metadata": {},
   "outputs": [
    {
     "name": "stderr",
     "output_type": "stream",
     "text": [
      "/home/u117015/.local/lib/python3.10/site-packages/keras/src/engine/training.py:3000: UserWarning: You are saving your model as an HDF5 file via `model.save()`. This file format is considered legacy. We recommend using instead the native Keras format, e.g. `model.save('my_model.keras')`.\n",
      "  saving_api.save_model(\n"
     ]
    }
   ],
   "source": [
    "# Save the model\n",
    "model.save('final_models_densenet/densenet.h5')"
   ]
  },
  {
   "cell_type": "code",
   "execution_count": null,
   "id": "c1f8c304-56cb-45a7-85b1-35c126bf18b2",
   "metadata": {},
   "outputs": [],
   "source": []
  }
 ],
 "metadata": {
  "kernelspec": {
   "display_name": "Python 3 (ipykernel)",
   "language": "python",
   "name": "python3"
  },
  "language_info": {
   "codemirror_mode": {
    "name": "ipython",
    "version": 3
   },
   "file_extension": ".py",
   "mimetype": "text/x-python",
   "name": "python",
   "nbconvert_exporter": "python",
   "pygments_lexer": "ipython3",
   "version": "3.10.11"
  }
 },
 "nbformat": 4,
 "nbformat_minor": 5
}
